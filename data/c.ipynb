{
 "cells": [
  {
   "cell_type": "code",
   "execution_count": 29,
   "metadata": {},
   "outputs": [
    {
     "name": "stdout",
     "output_type": "stream",
     "text": [
      "Collecting undetected_chromedriver\n",
      "  Using cached undetected_chromedriver-3.5.5-py3-none-any.whl\n",
      "Collecting selenium>=4.9.0 (from undetected_chromedriver)\n",
      "  Downloading selenium-4.26.1-py3-none-any.whl.metadata (7.1 kB)\n",
      "Requirement already satisfied: requests in c:\\users\\user\\desktop\\проекты\\93_веб-приложение для отслеживания демпинга\\.venv\\lib\\site-packages (from undetected_chromedriver) (2.32.3)\n",
      "Collecting websockets (from undetected_chromedriver)\n",
      "  Downloading websockets-14.1-cp311-cp311-win_amd64.whl.metadata (6.9 kB)\n",
      "Requirement already satisfied: urllib3<3,>=1.26 in c:\\users\\user\\desktop\\проекты\\93_веб-приложение для отслеживания демпинга\\.venv\\lib\\site-packages (from urllib3[socks]<3,>=1.26->selenium>=4.9.0->undetected_chromedriver) (2.2.3)\n",
      "Collecting trio~=0.17 (from selenium>=4.9.0->undetected_chromedriver)\n",
      "  Downloading trio-0.27.0-py3-none-any.whl.metadata (8.6 kB)\n",
      "Collecting trio-websocket~=0.9 (from selenium>=4.9.0->undetected_chromedriver)\n",
      "  Downloading trio_websocket-0.11.1-py3-none-any.whl.metadata (4.7 kB)\n",
      "Requirement already satisfied: certifi>=2021.10.8 in c:\\users\\user\\desktop\\проекты\\93_веб-приложение для отслеживания демпинга\\.venv\\lib\\site-packages (from selenium>=4.9.0->undetected_chromedriver) (2024.8.30)\n",
      "Requirement already satisfied: typing_extensions~=4.9 in c:\\users\\user\\desktop\\проекты\\93_веб-приложение для отслеживания демпинга\\.venv\\lib\\site-packages (from selenium>=4.9.0->undetected_chromedriver) (4.12.2)\n",
      "Collecting websocket-client~=1.8 (from selenium>=4.9.0->undetected_chromedriver)\n",
      "  Downloading websocket_client-1.8.0-py3-none-any.whl.metadata (8.0 kB)\n",
      "Requirement already satisfied: charset-normalizer<4,>=2 in c:\\users\\user\\desktop\\проекты\\93_веб-приложение для отслеживания демпинга\\.venv\\lib\\site-packages (from requests->undetected_chromedriver) (3.4.0)\n",
      "Requirement already satisfied: idna<4,>=2.5 in c:\\users\\user\\desktop\\проекты\\93_веб-приложение для отслеживания демпинга\\.venv\\lib\\site-packages (from requests->undetected_chromedriver) (3.10)\n",
      "Collecting attrs>=23.2.0 (from trio~=0.17->selenium>=4.9.0->undetected_chromedriver)\n",
      "  Using cached attrs-24.2.0-py3-none-any.whl.metadata (11 kB)\n",
      "Collecting sortedcontainers (from trio~=0.17->selenium>=4.9.0->undetected_chromedriver)\n",
      "  Using cached sortedcontainers-2.4.0-py2.py3-none-any.whl.metadata (10 kB)\n",
      "Collecting outcome (from trio~=0.17->selenium>=4.9.0->undetected_chromedriver)\n",
      "  Downloading outcome-1.3.0.post0-py2.py3-none-any.whl.metadata (2.6 kB)\n",
      "Collecting sniffio>=1.3.0 (from trio~=0.17->selenium>=4.9.0->undetected_chromedriver)\n",
      "  Using cached sniffio-1.3.1-py3-none-any.whl.metadata (3.9 kB)\n",
      "Collecting cffi>=1.14 (from trio~=0.17->selenium>=4.9.0->undetected_chromedriver)\n",
      "  Downloading cffi-1.17.1-cp311-cp311-win_amd64.whl.metadata (1.6 kB)\n",
      "Collecting wsproto>=0.14 (from trio-websocket~=0.9->selenium>=4.9.0->undetected_chromedriver)\n",
      "  Using cached wsproto-1.2.0-py3-none-any.whl.metadata (5.6 kB)\n",
      "Collecting pysocks!=1.5.7,<2.0,>=1.5.6 (from urllib3[socks]<3,>=1.26->selenium>=4.9.0->undetected_chromedriver)\n",
      "  Using cached PySocks-1.7.1-py3-none-any.whl.metadata (13 kB)\n",
      "Collecting pycparser (from cffi>=1.14->trio~=0.17->selenium>=4.9.0->undetected_chromedriver)\n",
      "  Downloading pycparser-2.22-py3-none-any.whl.metadata (943 bytes)\n",
      "Collecting h11<1,>=0.9.0 (from wsproto>=0.14->trio-websocket~=0.9->selenium>=4.9.0->undetected_chromedriver)\n",
      "  Using cached h11-0.14.0-py3-none-any.whl.metadata (8.2 kB)\n",
      "Downloading selenium-4.26.1-py3-none-any.whl (9.7 MB)\n",
      "   ---------------------------------------- 0.0/9.7 MB ? eta -:--:--\n",
      "   ------------ --------------------------- 3.1/9.7 MB 20.5 MB/s eta 0:00:01\n",
      "   -------------------------------------- - 9.4/9.7 MB 28.0 MB/s eta 0:00:01\n",
      "   ---------------------------------------- 9.7/9.7 MB 26.2 MB/s eta 0:00:00\n",
      "Downloading websockets-14.1-cp311-cp311-win_amd64.whl (163 kB)\n",
      "Downloading trio-0.27.0-py3-none-any.whl (481 kB)\n",
      "Downloading trio_websocket-0.11.1-py3-none-any.whl (17 kB)\n",
      "Downloading websocket_client-1.8.0-py3-none-any.whl (58 kB)\n",
      "Using cached attrs-24.2.0-py3-none-any.whl (63 kB)\n",
      "Downloading cffi-1.17.1-cp311-cp311-win_amd64.whl (181 kB)\n",
      "Using cached PySocks-1.7.1-py3-none-any.whl (16 kB)\n",
      "Using cached sniffio-1.3.1-py3-none-any.whl (10 kB)\n",
      "Using cached wsproto-1.2.0-py3-none-any.whl (24 kB)\n",
      "Downloading outcome-1.3.0.post0-py2.py3-none-any.whl (10 kB)\n",
      "Using cached sortedcontainers-2.4.0-py2.py3-none-any.whl (29 kB)\n",
      "Using cached h11-0.14.0-py3-none-any.whl (58 kB)\n",
      "Downloading pycparser-2.22-py3-none-any.whl (117 kB)\n",
      "Installing collected packages: sortedcontainers, websockets, websocket-client, sniffio, pysocks, pycparser, h11, attrs, wsproto, outcome, cffi, trio, trio-websocket, selenium, undetected_chromedriver\n",
      "Successfully installed attrs-24.2.0 cffi-1.17.1 h11-0.14.0 outcome-1.3.0.post0 pycparser-2.22 pysocks-1.7.1 selenium-4.26.1 sniffio-1.3.1 sortedcontainers-2.4.0 trio-0.27.0 trio-websocket-0.11.1 undetected_chromedriver-3.5.5 websocket-client-1.8.0 websockets-14.1 wsproto-1.2.0\n",
      "Note: you may need to restart the kernel to use updated packages.\n"
     ]
    },
    {
     "name": "stderr",
     "output_type": "stream",
     "text": [
      "\n",
      "[notice] A new release of pip is available: 24.2 -> 24.3.1\n",
      "[notice] To update, run: python.exe -m pip install --upgrade pip\n"
     ]
    }
   ],
   "source": [
    "pip install undetected_chromedriver"
   ]
  },
  {
   "cell_type": "code",
   "execution_count": 3,
   "metadata": {},
   "outputs": [],
   "source": [
    "import pandas as pd"
   ]
  },
  {
   "cell_type": "code",
   "execution_count": 6,
   "metadata": {},
   "outputs": [],
   "source": [
    "df = pd.read_excel(\"Данные демпинг.xlsx\", \"Лист1\")"
   ]
  },
  {
   "cell_type": "code",
   "execution_count": 7,
   "metadata": {},
   "outputs": [
    {
     "data": {
      "text/html": [
       "<div>\n",
       "<style scoped>\n",
       "    .dataframe tbody tr th:only-of-type {\n",
       "        vertical-align: middle;\n",
       "    }\n",
       "\n",
       "    .dataframe tbody tr th {\n",
       "        vertical-align: top;\n",
       "    }\n",
       "\n",
       "    .dataframe thead th {\n",
       "        text-align: right;\n",
       "    }\n",
       "</style>\n",
       "<table border=\"1\" class=\"dataframe\">\n",
       "  <thead>\n",
       "    <tr style=\"text-align: right;\">\n",
       "      <th></th>\n",
       "      <th>id</th>\n",
       "      <th>name</th>\n",
       "      <th>url</th>\n",
       "      <th>type</th>\n",
       "      <th>resource</th>\n",
       "      <th>category</th>\n",
       "      <th>ord</th>\n",
       "      <th>name_analogue</th>\n",
       "    </tr>\n",
       "  </thead>\n",
       "  <tbody>\n",
       "    <tr>\n",
       "      <th>0</th>\n",
       "      <td>1</td>\n",
       "      <td>AURA Heating MTA 75-0,5 - теплый пол под плитку</td>\n",
       "      <td>https://aura-russia.ru/heating-mats-aura-mta/a...</td>\n",
       "      <td>Конкуренты</td>\n",
       "      <td>AURA</td>\n",
       "      <td>КМ</td>\n",
       "      <td>0.5</td>\n",
       "      <td>КМ-75-0,5</td>\n",
       "    </tr>\n",
       "    <tr>\n",
       "      <th>1</th>\n",
       "      <td>2</td>\n",
       "      <td>AURA Heating MTA 150-1,0 - теплый пол под плитку</td>\n",
       "      <td>https://aura-russia.ru/heating-mats-aura-mta/a...</td>\n",
       "      <td>Конкуренты</td>\n",
       "      <td>AURA</td>\n",
       "      <td>КМ</td>\n",
       "      <td>1.0</td>\n",
       "      <td>КМ-150-1,0</td>\n",
       "    </tr>\n",
       "    <tr>\n",
       "      <th>2</th>\n",
       "      <td>3</td>\n",
       "      <td>AURA Heating MTA 225-1,5 - теплый пол под плитку</td>\n",
       "      <td>https://aura-russia.ru/heating-mats-aura-mta/a...</td>\n",
       "      <td>Конкуренты</td>\n",
       "      <td>AURA</td>\n",
       "      <td>КМ</td>\n",
       "      <td>1.5</td>\n",
       "      <td>КМ-225-1,5</td>\n",
       "    </tr>\n",
       "    <tr>\n",
       "      <th>3</th>\n",
       "      <td>4</td>\n",
       "      <td>AURA Heating MTA 300-2,0 - теплый пол под плитку</td>\n",
       "      <td>https://aura-russia.ru/heating-mats-aura-mta/a...</td>\n",
       "      <td>Конкуренты</td>\n",
       "      <td>AURA</td>\n",
       "      <td>КМ</td>\n",
       "      <td>2.0</td>\n",
       "      <td>КМ-300-2,0</td>\n",
       "    </tr>\n",
       "    <tr>\n",
       "      <th>4</th>\n",
       "      <td>5</td>\n",
       "      <td>AURA Heating MTA 375-2,5 - теплый пол под плитку</td>\n",
       "      <td>https://aura-russia.ru/heating-mats-aura-mta/a...</td>\n",
       "      <td>Конкуренты</td>\n",
       "      <td>AURA</td>\n",
       "      <td>КМ</td>\n",
       "      <td>2.5</td>\n",
       "      <td>КМ-375-2,5</td>\n",
       "    </tr>\n",
       "    <tr>\n",
       "      <th>...</th>\n",
       "      <td>...</td>\n",
       "      <td>...</td>\n",
       "      <td>...</td>\n",
       "      <td>...</td>\n",
       "      <td>...</td>\n",
       "      <td>...</td>\n",
       "      <td>...</td>\n",
       "      <td>...</td>\n",
       "    </tr>\n",
       "    <tr>\n",
       "      <th>1192</th>\n",
       "      <td>1193</td>\n",
       "      <td>Ленточный теплый пол Квадрат тепла 150 Вт/кв.м...</td>\n",
       "      <td>https://www.stn-ufa.ru/city-heat-675vt-1-h-5m....</td>\n",
       "      <td>Партнеры</td>\n",
       "      <td>Технологии тепла</td>\n",
       "      <td>Лента 150</td>\n",
       "      <td>5001002.0</td>\n",
       "      <td>500100.2</td>\n",
       "    </tr>\n",
       "    <tr>\n",
       "      <th>1193</th>\n",
       "      <td>1194</td>\n",
       "      <td>Ленточный теплый пол Квадрат тепла 150 Вт/кв.м...</td>\n",
       "      <td>https://www.stn-ufa.ru/city-heat-375vt-0-5-h-5...</td>\n",
       "      <td>Партнеры</td>\n",
       "      <td>Технологии тепла</td>\n",
       "      <td>Лента 150</td>\n",
       "      <td>5500502.0</td>\n",
       "      <td>550050.2</td>\n",
       "    </tr>\n",
       "    <tr>\n",
       "      <th>1194</th>\n",
       "      <td>1195</td>\n",
       "      <td>Ленточный теплый пол Квадрат тепла 150 Вт/кв.м...</td>\n",
       "      <td>https://www.stn-ufa.ru/city-heat-825vt-1-h-5-5...</td>\n",
       "      <td>Партнеры</td>\n",
       "      <td>Технологии тепла</td>\n",
       "      <td>Лента 150</td>\n",
       "      <td>5501002.0</td>\n",
       "      <td>550100.2</td>\n",
       "    </tr>\n",
       "    <tr>\n",
       "      <th>1195</th>\n",
       "      <td>1196</td>\n",
       "      <td>Ленточный теплый пол Квадрат тепла 150 Вт/кв.м...</td>\n",
       "      <td>https://www.stn-ufa.ru/city-heat-450vt-0-5-h-6...</td>\n",
       "      <td>Партнеры</td>\n",
       "      <td>Технологии тепла</td>\n",
       "      <td>Лента 150</td>\n",
       "      <td>6000502.0</td>\n",
       "      <td>600050.2</td>\n",
       "    </tr>\n",
       "    <tr>\n",
       "      <th>1196</th>\n",
       "      <td>1197</td>\n",
       "      <td>Ленточный теплый пол Квадрат тепла 150 Вт/кв.м...</td>\n",
       "      <td>https://www.stn-ufa.ru/city-heat-900vt-1-h-6m....</td>\n",
       "      <td>Партнеры</td>\n",
       "      <td>Технологии тепла</td>\n",
       "      <td>Лента 150</td>\n",
       "      <td>6001002.0</td>\n",
       "      <td>600100.2</td>\n",
       "    </tr>\n",
       "  </tbody>\n",
       "</table>\n",
       "<p>1197 rows × 8 columns</p>\n",
       "</div>"
      ],
      "text/plain": [
       "        id                                               name  \\\n",
       "0        1    AURA Heating MTA 75-0,5 - теплый пол под плитку   \n",
       "1        2   AURA Heating MTA 150-1,0 - теплый пол под плитку   \n",
       "2        3   AURA Heating MTA 225-1,5 - теплый пол под плитку   \n",
       "3        4   AURA Heating MTA 300-2,0 - теплый пол под плитку   \n",
       "4        5   AURA Heating MTA 375-2,5 - теплый пол под плитку   \n",
       "...    ...                                                ...   \n",
       "1192  1193  Ленточный теплый пол Квадрат тепла 150 Вт/кв.м...   \n",
       "1193  1194  Ленточный теплый пол Квадрат тепла 150 Вт/кв.м...   \n",
       "1194  1195  Ленточный теплый пол Квадрат тепла 150 Вт/кв.м...   \n",
       "1195  1196  Ленточный теплый пол Квадрат тепла 150 Вт/кв.м...   \n",
       "1196  1197  Ленточный теплый пол Квадрат тепла 150 Вт/кв.м...   \n",
       "\n",
       "                                                    url        type  \\\n",
       "0     https://aura-russia.ru/heating-mats-aura-mta/a...  Конкуренты   \n",
       "1     https://aura-russia.ru/heating-mats-aura-mta/a...  Конкуренты   \n",
       "2     https://aura-russia.ru/heating-mats-aura-mta/a...  Конкуренты   \n",
       "3     https://aura-russia.ru/heating-mats-aura-mta/a...  Конкуренты   \n",
       "4     https://aura-russia.ru/heating-mats-aura-mta/a...  Конкуренты   \n",
       "...                                                 ...         ...   \n",
       "1192  https://www.stn-ufa.ru/city-heat-675vt-1-h-5m....    Партнеры   \n",
       "1193  https://www.stn-ufa.ru/city-heat-375vt-0-5-h-5...    Партнеры   \n",
       "1194  https://www.stn-ufa.ru/city-heat-825vt-1-h-5-5...    Партнеры   \n",
       "1195  https://www.stn-ufa.ru/city-heat-450vt-0-5-h-6...    Партнеры   \n",
       "1196  https://www.stn-ufa.ru/city-heat-900vt-1-h-6m....    Партнеры   \n",
       "\n",
       "              resource   category        ord name_analogue  \n",
       "0                 AURA         КМ        0.5     КМ-75-0,5  \n",
       "1                 AURA         КМ        1.0    КМ-150-1,0  \n",
       "2                 AURA         КМ        1.5    КМ-225-1,5  \n",
       "3                 AURA         КМ        2.0    КМ-300-2,0  \n",
       "4                 AURA         КМ        2.5    КМ-375-2,5  \n",
       "...                ...        ...        ...           ...  \n",
       "1192  Технологии тепла  Лента 150  5001002.0      500100.2  \n",
       "1193  Технологии тепла  Лента 150  5500502.0      550050.2  \n",
       "1194  Технологии тепла  Лента 150  5501002.0      550100.2  \n",
       "1195  Технологии тепла  Лента 150  6000502.0      600050.2  \n",
       "1196  Технологии тепла  Лента 150  6001002.0      600100.2  \n",
       "\n",
       "[1197 rows x 8 columns]"
      ]
     },
     "execution_count": 7,
     "metadata": {},
     "output_type": "execute_result"
    }
   ],
   "source": [
    "df"
   ]
  },
  {
   "cell_type": "code",
   "execution_count": 8,
   "metadata": {},
   "outputs": [
    {
     "name": "stderr",
     "output_type": "stream",
     "text": [
      "C:\\Users\\user\\AppData\\Local\\Temp\\ipykernel_113580\\2153318266.py:8: FutureWarning: Series.__getitem__ treating keys as positions is deprecated. In a future version, integer keys will always be treated as labels (consistent with DataFrame behavior). To access a value by position, use `ser.iloc[pos]`\n",
      "  cursor.execute(query, (int(row[0]), row[1], row[2], row[3], row[4], row[5], row[6], row[7]))\n"
     ]
    }
   ],
   "source": [
    "import sqlite3\n",
    "conn = sqlite3.connect('dumping.db')\n",
    "cursor = conn.cursor()\n",
    "cursor.execute('DELETE FROM cards')\n",
    "for i in range(len(df)):\n",
    "    row = df.iloc[i, :]\n",
    "    query = \"INSERT INTO CARDS VALUES(?, ?, ?, ?, ?, ?, ?, ? );\"\n",
    "    cursor.execute(query, (int(row[0]), row[1], row[2], row[3], row[4], row[5], row[6], row[7]))\n",
    "conn.commit()\n",
    "conn.close()"
   ]
  },
  {
   "cell_type": "code",
   "execution_count": 9,
   "metadata": {},
   "outputs": [],
   "source": [
    "df = pd.read_excel(\"Данные демпинг.xlsx\", \"Лист3\")"
   ]
  },
  {
   "cell_type": "code",
   "execution_count": 10,
   "metadata": {},
   "outputs": [
    {
     "data": {
      "text/html": [
       "<div>\n",
       "<style scoped>\n",
       "    .dataframe tbody tr th:only-of-type {\n",
       "        vertical-align: middle;\n",
       "    }\n",
       "\n",
       "    .dataframe tbody tr th {\n",
       "        vertical-align: top;\n",
       "    }\n",
       "\n",
       "    .dataframe thead th {\n",
       "        text-align: right;\n",
       "    }\n",
       "</style>\n",
       "<table border=\"1\" class=\"dataframe\">\n",
       "  <thead>\n",
       "    <tr style=\"text-align: right;\">\n",
       "      <th></th>\n",
       "      <th>name_analogue</th>\n",
       "      <th>category</th>\n",
       "      <th>ord</th>\n",
       "      <th>price_analogue</th>\n",
       "    </tr>\n",
       "  </thead>\n",
       "  <tbody>\n",
       "    <tr>\n",
       "      <th>0</th>\n",
       "      <td>КМ-75-0,5</td>\n",
       "      <td>КМ</td>\n",
       "      <td>0.5</td>\n",
       "      <td>1945</td>\n",
       "    </tr>\n",
       "    <tr>\n",
       "      <th>1</th>\n",
       "      <td>КМ-150-1,0</td>\n",
       "      <td>КМ</td>\n",
       "      <td>1.0</td>\n",
       "      <td>2260</td>\n",
       "    </tr>\n",
       "    <tr>\n",
       "      <th>2</th>\n",
       "      <td>КМ-225-1,5</td>\n",
       "      <td>КМ</td>\n",
       "      <td>1.5</td>\n",
       "      <td>2800</td>\n",
       "    </tr>\n",
       "    <tr>\n",
       "      <th>3</th>\n",
       "      <td>КМ-300-2,0</td>\n",
       "      <td>КМ</td>\n",
       "      <td>2.0</td>\n",
       "      <td>3380</td>\n",
       "    </tr>\n",
       "    <tr>\n",
       "      <th>4</th>\n",
       "      <td>КМ-375-2,5</td>\n",
       "      <td>КМ</td>\n",
       "      <td>2.5</td>\n",
       "      <td>3890</td>\n",
       "    </tr>\n",
       "    <tr>\n",
       "      <th>...</th>\n",
       "      <td>...</td>\n",
       "      <td>...</td>\n",
       "      <td>...</td>\n",
       "      <td>...</td>\n",
       "    </tr>\n",
       "    <tr>\n",
       "      <th>147</th>\n",
       "      <td>НРК Pro Вт 1550-62 м</td>\n",
       "      <td>НРК Pro</td>\n",
       "      <td>62.0</td>\n",
       "      <td>13705</td>\n",
       "    </tr>\n",
       "    <tr>\n",
       "      <th>148</th>\n",
       "      <td>НРК Pro Вт 3025-121 м</td>\n",
       "      <td>НРК Pro</td>\n",
       "      <td>121.0</td>\n",
       "      <td>25167</td>\n",
       "    </tr>\n",
       "    <tr>\n",
       "      <th>149</th>\n",
       "      <td>НРК Pro Вт 4300-172 м</td>\n",
       "      <td>НРК Pro</td>\n",
       "      <td>172.0</td>\n",
       "      <td>34660</td>\n",
       "    </tr>\n",
       "    <tr>\n",
       "      <th>150</th>\n",
       "      <td>НРК Pro Вт 5250-210 м</td>\n",
       "      <td>НРК Pro</td>\n",
       "      <td>210.0</td>\n",
       "      <td>42097</td>\n",
       "    </tr>\n",
       "    <tr>\n",
       "      <th>151</th>\n",
       "      <td>НРК Pro Вт 6250-250 м</td>\n",
       "      <td>НРК Pro</td>\n",
       "      <td>250.0</td>\n",
       "      <td>48630</td>\n",
       "    </tr>\n",
       "  </tbody>\n",
       "</table>\n",
       "<p>152 rows × 4 columns</p>\n",
       "</div>"
      ],
      "text/plain": [
       "             name_analogue category    ord  price_analogue\n",
       "0                КМ-75-0,5       КМ    0.5            1945\n",
       "1               КМ-150-1,0       КМ    1.0            2260\n",
       "2               КМ-225-1,5       КМ    1.5            2800\n",
       "3               КМ-300-2,0       КМ    2.0            3380\n",
       "4               КМ-375-2,5       КМ    2.5            3890\n",
       "..                     ...      ...    ...             ...\n",
       "147   НРК Pro Вт 1550-62 м  НРК Pro   62.0           13705\n",
       "148  НРК Pro Вт 3025-121 м  НРК Pro  121.0           25167\n",
       "149  НРК Pro Вт 4300-172 м  НРК Pro  172.0           34660\n",
       "150  НРК Pro Вт 5250-210 м  НРК Pro  210.0           42097\n",
       "151  НРК Pro Вт 6250-250 м  НРК Pro  250.0           48630\n",
       "\n",
       "[152 rows x 4 columns]"
      ]
     },
     "execution_count": 10,
     "metadata": {},
     "output_type": "execute_result"
    }
   ],
   "source": [
    "df"
   ]
  },
  {
   "cell_type": "code",
   "execution_count": 11,
   "metadata": {},
   "outputs": [],
   "source": [
    "import sqlite3\n",
    "conn = sqlite3.connect('dumping.db')\n",
    "cursor = conn.cursor()\n",
    "cursor.execute(\"DELETE FROM prices\")\n",
    "# for i in range(len(df)):\n",
    "#     row = df.iloc[i, :]\n",
    "#     query = \"INSERT INTO ANALOGUES VALUES(?, ?, ?, ?);\"\n",
    "#     cursor.execute(query, (row[0], row[1], row[2], float(row[3])))\n",
    "conn.commit()\n",
    "conn.close()"
   ]
  },
  {
   "cell_type": "code",
   "execution_count": 12,
   "metadata": {},
   "outputs": [],
   "source": [
    "result = {5: 100, 6:200}"
   ]
  },
  {
   "cell_type": "code",
   "execution_count": 13,
   "metadata": {},
   "outputs": [],
   "source": [
    "result =[ [1, 2], [2,5]]"
   ]
  },
  {
   "cell_type": "code",
   "execution_count": 14,
   "metadata": {},
   "outputs": [
    {
     "name": "stdout",
     "output_type": "stream",
     "text": [
      "[1, 2]\n",
      "[2, 5]\n"
     ]
    }
   ],
   "source": [
    "for row in result:\n",
    "    print(row)"
   ]
  },
  {
   "cell_type": "code",
   "execution_count": 21,
   "metadata": {},
   "outputs": [
    {
     "data": {
      "text/plain": [
       "[]"
      ]
     },
     "execution_count": 21,
     "metadata": {},
     "output_type": "execute_result"
    }
   ],
   "source": [
    "from lxml import etree\n",
    "from bs4 import BeautifulSoup\n",
    "import requests\n",
    "\n",
    "page = requests.get('https://www.stn-ufa.ru/city-heat-900vt-1-h-6m.html')\n",
    "soup = BeautifulSoup(page.text, \"html.parser\")               \n",
    "dom = etree.HTML(str(soup))\n",
    "dom.xpath(\"//*[data-price = 19735]\")\n",
    "# print dom.xpath('//*[@id=\"BGINP01_S1\"]/section/div/font/text()')"
   ]
  },
  {
   "cell_type": "code",
   "execution_count": 22,
   "metadata": {},
   "outputs": [],
   "source": [
    "import sqlite3\n",
    "conn = sqlite3.connect('dumping.db')\n",
    "cursor = conn.cursor()\n",
    "data = cursor.execute(\"SELECT DISTINCT url FROM cards WHERE resource = 'Золотое Сечение'\").fetchall()\n",
    "\n",
    "# for i in range(len(df)):\n",
    "#     row = df.iloc[i, :]\n",
    "#     query = \"INSERT INTO ANALOGUES VALUES(?, ?, ?, ?);\"\n",
    "#     cursor.execute(query, (row[0], row[1], row[2], float(row[3]))\n",
    "conn.close()"
   ]
  },
  {
   "cell_type": "code",
   "execution_count": 23,
   "metadata": {},
   "outputs": [],
   "source": [
    "import sqlite3\n",
    "conn = sqlite3.connect('dumping.db')\n",
    "cursor = conn.cursor()\n",
    "data = cursor.execute(\"SELECT price FROM prices LEFT JOIN cards WHERE resource = 'Теплый пол №1'\").fetchall()\n",
    "\n",
    "# for i in range(len(df)):\n",
    "#     row = df.iloc[i, :]\n",
    "#     query = \"INSERT INTO ANALOGUES VALUES(?, ?, ?, ?);\"\n",
    "#     cursor.execute(query, (row[0], row[1], row[2], float(row[3]))\n",
    "conn.close()"
   ]
  },
  {
   "cell_type": "code",
   "execution_count": 24,
   "metadata": {},
   "outputs": [
    {
     "data": {
      "text/plain": [
       "[]"
      ]
     },
     "execution_count": 24,
     "metadata": {},
     "output_type": "execute_result"
    }
   ],
   "source": [
    "data"
   ]
  },
  {
   "cell_type": "code",
   "execution_count": 25,
   "metadata": {},
   "outputs": [
    {
     "ename": "IndexError",
     "evalue": "list index out of range",
     "output_type": "error",
     "traceback": [
      "\u001b[1;31m---------------------------------------------------------------------------\u001b[0m",
      "\u001b[1;31mIndexError\u001b[0m                                Traceback (most recent call last)",
      "Cell \u001b[1;32mIn[25], line 1\u001b[0m\n\u001b[1;32m----> 1\u001b[0m \u001b[43mdata\u001b[49m\u001b[43m[\u001b[49m\u001b[38;5;241;43m0\u001b[39;49m\u001b[43m]\u001b[49m[\u001b[38;5;241m0\u001b[39m]\n",
      "\u001b[1;31mIndexError\u001b[0m: list index out of range"
     ]
    }
   ],
   "source": [
    "data[0][0]"
   ]
  },
  {
   "cell_type": "code",
   "execution_count": 26,
   "metadata": {},
   "outputs": [],
   "source": [
    "import sqlite3\n",
    "conn = sqlite3.connect('dumping.db')\n",
    "cursor = conn.cursor()\n",
    "data = cursor.execute(\n",
    "    \"\"\"DELETE FROM prices \n",
    "    WHERE ROWID IN (\n",
    "        SELECT a.ROWID FROM prices a\n",
    "        LEFT JOIN cards b\n",
    "            ON (a.id = b.id)\n",
    "        WHERE b.resource = 'Теплый пол арарар'\n",
    "    )\"\"\"\n",
    ")\n",
    "conn.commit()\n",
    "\n",
    "# for i in range(len(df)):\n",
    "#     row = df.iloc[i, :]\n",
    "#     query = \"INSERT INTO ANALOGUES VALUES(?, ?, ?, ?);\"\n",
    "#     cursor.execute(query, (row[0], row[1], row[2], float(row[3]))\n",
    "conn.close()"
   ]
  },
  {
   "cell_type": "code",
   "execution_count": 27,
   "metadata": {},
   "outputs": [],
   "source": [
    "import sqlite3\n",
    "conn = sqlite3.connect('dumping.db')\n",
    "cursor = conn.cursor()\n",
    "data = cursor.execute(\n",
    "    \"\"\"insert into prices values(10000, '12.02.2024', 100)\"\"\"\n",
    ")\n",
    "conn.commit()\n",
    "\n",
    "# for i in range(len(df)):\n",
    "#     row = df.iloc[i, :]\n",
    "#     query = \"INSERT INTO ANALOGUES VALUES(?, ?, ?, ?);\"\n",
    "#     cursor.execute(query, (row[0], row[1], row[2], float(row[3]))\n",
    "conn.close()"
   ]
  },
  {
   "cell_type": "code",
   "execution_count": 30,
   "metadata": {},
   "outputs": [],
   "source": [
    "import undetected_chromedriver as uc\n",
    "driver = uc.Chrome()"
   ]
  },
  {
   "cell_type": "code",
   "execution_count": 31,
   "metadata": {},
   "outputs": [
    {
     "ename": "InvalidArgumentException",
     "evalue": "Message: invalid argument\n  (Session info: chrome=131.0.6778.85)\nStacktrace:\n\tGetHandleVerifier [0x00ED33E3+25059]\n\t(No symbol) [0x00E5CDE4]\n\t(No symbol) [0x00D3BD39]\n\t(No symbol) [0x00D2CF61]\n\t(No symbol) [0x00D2B88B]\n\t(No symbol) [0x00D2BE6B]\n\t(No symbol) [0x00D3E8BE]\n\t(No symbol) [0x00DBBF47]\n\t(No symbol) [0x00DA1EFC]\n\t(No symbol) [0x00DBB51E]\n\t(No symbol) [0x00DA1C96]\n\t(No symbol) [0x00D73FAC]\n\t(No symbol) [0x00D74F3D]\n\tGetHandleVerifier [0x011C5543+3113795]\n\tGetHandleVerifier [0x011DA20A+3198986]\n\tGetHandleVerifier [0x011D29E2+3168226]\n\tGetHandleVerifier [0x00F73250+680016]\n\t(No symbol) [0x00E6572D]\n\t(No symbol) [0x00E629D8]\n\t(No symbol) [0x00E62B75]\n\t(No symbol) [0x00E557D0]\n\tBaseThreadInitThunk [0x76357BA9+25]\n\tRtlInitializeExceptionChain [0x77DEC0CB+107]\n\tRtlClearBits [0x77DEC04F+191]\n",
     "output_type": "error",
     "traceback": [
      "\u001b[1;31m---------------------------------------------------------------------------\u001b[0m",
      "\u001b[1;31mInvalidArgumentException\u001b[0m                  Traceback (most recent call last)",
      "Cell \u001b[1;32mIn[31], line 1\u001b[0m\n\u001b[1;32m----> 1\u001b[0m \u001b[43mdriver\u001b[49m\u001b[38;5;241;43m.\u001b[39;49m\u001b[43mget\u001b[49m\u001b[43m(\u001b[49m\u001b[38;5;124;43m'\u001b[39;49m\u001b[38;5;124;43m'\u001b[39;49m\u001b[43m)\u001b[49m\n",
      "File \u001b[1;32mc:\\Users\\user\\Desktop\\Проекты\\93_Веб-приложение для отслеживания демпинга\\.venv\\Lib\\site-packages\\undetected_chromedriver\\__init__.py:665\u001b[0m, in \u001b[0;36mChrome.get\u001b[1;34m(self, url)\u001b[0m\n\u001b[0;32m    662\u001b[0m \u001b[38;5;28;01mdef\u001b[39;00m \u001b[38;5;21mget\u001b[39m(\u001b[38;5;28mself\u001b[39m, url):\n\u001b[0;32m    663\u001b[0m     \u001b[38;5;66;03m# if self._get_cdc_props():\u001b[39;00m\n\u001b[0;32m    664\u001b[0m     \u001b[38;5;66;03m#     self._hook_remove_cdc_props()\u001b[39;00m\n\u001b[1;32m--> 665\u001b[0m     \u001b[38;5;28;01mreturn\u001b[39;00m \u001b[38;5;28;43msuper\u001b[39;49m\u001b[43m(\u001b[49m\u001b[43m)\u001b[49m\u001b[38;5;241;43m.\u001b[39;49m\u001b[43mget\u001b[49m\u001b[43m(\u001b[49m\u001b[43murl\u001b[49m\u001b[43m)\u001b[49m\n",
      "File \u001b[1;32mc:\\Users\\user\\Desktop\\Проекты\\93_Веб-приложение для отслеживания демпинга\\.venv\\Lib\\site-packages\\selenium\\webdriver\\remote\\webdriver.py:389\u001b[0m, in \u001b[0;36mWebDriver.get\u001b[1;34m(self, url)\u001b[0m\n\u001b[0;32m    387\u001b[0m \u001b[38;5;28;01mdef\u001b[39;00m \u001b[38;5;21mget\u001b[39m(\u001b[38;5;28mself\u001b[39m, url: \u001b[38;5;28mstr\u001b[39m) \u001b[38;5;241m-\u001b[39m\u001b[38;5;241m>\u001b[39m \u001b[38;5;28;01mNone\u001b[39;00m:\n\u001b[0;32m    388\u001b[0m \u001b[38;5;250m    \u001b[39m\u001b[38;5;124;03m\"\"\"Loads a web page in the current browser session.\"\"\"\u001b[39;00m\n\u001b[1;32m--> 389\u001b[0m     \u001b[38;5;28;43mself\u001b[39;49m\u001b[38;5;241;43m.\u001b[39;49m\u001b[43mexecute\u001b[49m\u001b[43m(\u001b[49m\u001b[43mCommand\u001b[49m\u001b[38;5;241;43m.\u001b[39;49m\u001b[43mGET\u001b[49m\u001b[43m,\u001b[49m\u001b[43m \u001b[49m\u001b[43m{\u001b[49m\u001b[38;5;124;43m\"\u001b[39;49m\u001b[38;5;124;43murl\u001b[39;49m\u001b[38;5;124;43m\"\u001b[39;49m\u001b[43m:\u001b[49m\u001b[43m \u001b[49m\u001b[43murl\u001b[49m\u001b[43m}\u001b[49m\u001b[43m)\u001b[49m\n",
      "File \u001b[1;32mc:\\Users\\user\\Desktop\\Проекты\\93_Веб-приложение для отслеживания демпинга\\.venv\\Lib\\site-packages\\selenium\\webdriver\\remote\\webdriver.py:380\u001b[0m, in \u001b[0;36mWebDriver.execute\u001b[1;34m(self, driver_command, params)\u001b[0m\n\u001b[0;32m    378\u001b[0m response \u001b[38;5;241m=\u001b[39m \u001b[38;5;28mself\u001b[39m\u001b[38;5;241m.\u001b[39mcommand_executor\u001b[38;5;241m.\u001b[39mexecute(driver_command, params)\n\u001b[0;32m    379\u001b[0m \u001b[38;5;28;01mif\u001b[39;00m response:\n\u001b[1;32m--> 380\u001b[0m     \u001b[38;5;28;43mself\u001b[39;49m\u001b[38;5;241;43m.\u001b[39;49m\u001b[43merror_handler\u001b[49m\u001b[38;5;241;43m.\u001b[39;49m\u001b[43mcheck_response\u001b[49m\u001b[43m(\u001b[49m\u001b[43mresponse\u001b[49m\u001b[43m)\u001b[49m\n\u001b[0;32m    381\u001b[0m     response[\u001b[38;5;124m\"\u001b[39m\u001b[38;5;124mvalue\u001b[39m\u001b[38;5;124m\"\u001b[39m] \u001b[38;5;241m=\u001b[39m \u001b[38;5;28mself\u001b[39m\u001b[38;5;241m.\u001b[39m_unwrap_value(response\u001b[38;5;241m.\u001b[39mget(\u001b[38;5;124m\"\u001b[39m\u001b[38;5;124mvalue\u001b[39m\u001b[38;5;124m\"\u001b[39m, \u001b[38;5;28;01mNone\u001b[39;00m))\n\u001b[0;32m    382\u001b[0m     \u001b[38;5;28;01mreturn\u001b[39;00m response\n",
      "File \u001b[1;32mc:\\Users\\user\\Desktop\\Проекты\\93_Веб-приложение для отслеживания демпинга\\.venv\\Lib\\site-packages\\selenium\\webdriver\\remote\\errorhandler.py:229\u001b[0m, in \u001b[0;36mErrorHandler.check_response\u001b[1;34m(self, response)\u001b[0m\n\u001b[0;32m    227\u001b[0m         alert_text \u001b[38;5;241m=\u001b[39m value[\u001b[38;5;124m\"\u001b[39m\u001b[38;5;124malert\u001b[39m\u001b[38;5;124m\"\u001b[39m]\u001b[38;5;241m.\u001b[39mget(\u001b[38;5;124m\"\u001b[39m\u001b[38;5;124mtext\u001b[39m\u001b[38;5;124m\"\u001b[39m)\n\u001b[0;32m    228\u001b[0m     \u001b[38;5;28;01mraise\u001b[39;00m exception_class(message, screen, stacktrace, alert_text)  \u001b[38;5;66;03m# type: ignore[call-arg]  # mypy is not smart enough here\u001b[39;00m\n\u001b[1;32m--> 229\u001b[0m \u001b[38;5;28;01mraise\u001b[39;00m exception_class(message, screen, stacktrace)\n",
      "\u001b[1;31mInvalidArgumentException\u001b[0m: Message: invalid argument\n  (Session info: chrome=131.0.6778.85)\nStacktrace:\n\tGetHandleVerifier [0x00ED33E3+25059]\n\t(No symbol) [0x00E5CDE4]\n\t(No symbol) [0x00D3BD39]\n\t(No symbol) [0x00D2CF61]\n\t(No symbol) [0x00D2B88B]\n\t(No symbol) [0x00D2BE6B]\n\t(No symbol) [0x00D3E8BE]\n\t(No symbol) [0x00DBBF47]\n\t(No symbol) [0x00DA1EFC]\n\t(No symbol) [0x00DBB51E]\n\t(No symbol) [0x00DA1C96]\n\t(No symbol) [0x00D73FAC]\n\t(No symbol) [0x00D74F3D]\n\tGetHandleVerifier [0x011C5543+3113795]\n\tGetHandleVerifier [0x011DA20A+3198986]\n\tGetHandleVerifier [0x011D29E2+3168226]\n\tGetHandleVerifier [0x00F73250+680016]\n\t(No symbol) [0x00E6572D]\n\t(No symbol) [0x00E629D8]\n\t(No symbol) [0x00E62B75]\n\t(No symbol) [0x00E557D0]\n\tBaseThreadInitThunk [0x76357BA9+25]\n\tRtlInitializeExceptionChain [0x77DEC0CB+107]\n\tRtlClearBits [0x77DEC04F+191]\n"
     ]
    }
   ],
   "source": [
    "driver.get('')"
   ]
  },
  {
   "cell_type": "code",
   "execution_count": 32,
   "metadata": {},
   "outputs": [
    {
     "name": "stdout",
     "output_type": "stream",
     "text": [
      "Collecting fake_useragent\n",
      "  Downloading fake_useragent-1.5.1-py3-none-any.whl.metadata (15 kB)\n",
      "Downloading fake_useragent-1.5.1-py3-none-any.whl (17 kB)\n",
      "Installing collected packages: fake_useragent\n",
      "Successfully installed fake_useragent-1.5.1\n",
      "Note: you may need to restart the kernel to use updated packages.\n"
     ]
    },
    {
     "name": "stderr",
     "output_type": "stream",
     "text": [
      "\n",
      "[notice] A new release of pip is available: 24.2 -> 24.3.1\n",
      "[notice] To update, run: python.exe -m pip install --upgrade pip\n"
     ]
    }
   ],
   "source": [
    "pip install fake_useragent"
   ]
  },
  {
   "cell_type": "code",
   "execution_count": 33,
   "metadata": {},
   "outputs": [],
   "source": [
    "from bs4 import BeautifulSoup\n",
    "from lxml import etree\n",
    "from datetime import date\n",
    "from fake_useragent import UserAgent\n",
    "import requests"
   ]
  },
  {
   "cell_type": "code",
   "execution_count": 34,
   "metadata": {},
   "outputs": [],
   "source": [
    "link = 'https://теплыйпол96.рф/catalog/teplyy-pol/teplyy-pol-vstyazhku/nagrevatelnyy-kabel-heatup-42-5-m-850/'"
   ]
  },
  {
   "cell_type": "code",
   "execution_count": 35,
   "metadata": {},
   "outputs": [],
   "source": [
    "ua = UserAgent()\n",
    "headers = {'User-Agent': ua.random}"
   ]
  },
  {
   "cell_type": "code",
   "execution_count": 36,
   "metadata": {},
   "outputs": [],
   "source": [
    "page = requests.get(link, headers=headers)\n",
    "soup = BeautifulSoup(page.text, \"html.parser\")\n",
    "dom = etree.HTML(str(soup))"
   ]
  },
  {
   "cell_type": "code",
   "execution_count": 37,
   "metadata": {},
   "outputs": [
    {
     "data": {
      "text/plain": [
       "'Цена 6000 руб'"
      ]
     },
     "execution_count": 37,
     "metadata": {},
     "output_type": "execute_result"
    }
   ],
   "source": [
    "dom.xpath(\"//span[contains(@itemprop, 'price')]\")[0].text"
   ]
  },
  {
   "cell_type": "code",
   "execution_count": 38,
   "metadata": {},
   "outputs": [],
   "source": [
    "l = [1, 2]\n",
    "m = [3, 4]"
   ]
  },
  {
   "cell_type": "code",
   "execution_count": 39,
   "metadata": {},
   "outputs": [
    {
     "data": {
      "text/plain": [
       "[(1, 3), (2, 4)]"
      ]
     },
     "execution_count": 39,
     "metadata": {},
     "output_type": "execute_result"
    }
   ],
   "source": [
    "list(zip(l, m))"
   ]
  },
  {
   "cell_type": "code",
   "execution_count": 40,
   "metadata": {},
   "outputs": [],
   "source": [
    "import sqlite3\n",
    "from sqlite3 import Connection"
   ]
  },
  {
   "cell_type": "code",
   "execution_count": 41,
   "metadata": {},
   "outputs": [],
   "source": [
    "def request_sql(conn: Connection, query: str):\n",
    "    with conn:\n",
    "        cursor = conn.cursor()\n",
    "        data = cursor.execute(query).fetchall()\n",
    "        cursor.close()\n",
    "        return data"
   ]
  },
  {
   "cell_type": "code",
   "execution_count": 42,
   "metadata": {},
   "outputs": [],
   "source": [
    "dates = request_sql(conn=sqlite3.connect('dumping.db'), query=\"SELECT DISTINCT date FROM PRICES\")"
   ]
  },
  {
   "cell_type": "code",
   "execution_count": 43,
   "metadata": {},
   "outputs": [],
   "source": [
    "from datetime import datetime\n",
    "DATE_FORMAT = '%d.%m.%Y'\n",
    "dates = [\n",
    "        datetime.strptime(data[0], DATE_FORMAT) for data in\n",
    "        dates\n",
    "    ]"
   ]
  },
  {
   "cell_type": "code",
   "execution_count": 44,
   "metadata": {},
   "outputs": [],
   "source": [
    "dates.sort()"
   ]
  },
  {
   "cell_type": "code",
   "execution_count": 45,
   "metadata": {},
   "outputs": [
    {
     "data": {
      "text/plain": [
       "[datetime.datetime(2024, 2, 12, 0, 0)]"
      ]
     },
     "execution_count": 45,
     "metadata": {},
     "output_type": "execute_result"
    }
   ],
   "source": [
    "dates"
   ]
  },
  {
   "cell_type": "code",
   "execution_count": 46,
   "metadata": {},
   "outputs": [],
   "source": [
    "def get_cards_info(conn: Connection, resource: str) -> list:\n",
    "    query = \"SELECT id, url FROM cards \" +\\\n",
    "            f\"WHERE resource = '{resource}'\"\n",
    "    data = request_sql(conn, query)\n",
    "    urls = [el[1] for el in data]\n",
    "    ids = [el[0] for el in data]\n",
    "    return urls, ids"
   ]
  },
  {
   "cell_type": "code",
   "execution_count": 47,
   "metadata": {},
   "outputs": [],
   "source": [
    "import re\n",
    "from fake_useragent import UserAgent\n",
    "import requests\n",
    "from bs4 import BeautifulSoup\n",
    "from lxml import etree\n",
    "from datetime import date\n",
    "from fake_useragent import UserAgent"
   ]
  },
  {
   "cell_type": "code",
   "execution_count": 48,
   "metadata": {},
   "outputs": [],
   "source": [
    "def bs_parse(conn:Connection, resource: str, path: str, attr='text'):\n",
    "        urls, ids = get_cards_info(conn, resource)\n",
    "        ua = UserAgent()\n",
    "        headers = {'User-Agent': ua.random}\n",
    "        prices = []\n",
    "        for i in range(len(urls)):\n",
    "            page = requests.get(urls[i], headers=headers)\n",
    "            soup = BeautifulSoup(page.text, \"html.parser\")\n",
    "            print(soup)\n",
    "            dom = etree.HTML(str(soup))\n",
    "            print(dom)\n",
    "            print(dom.xpath(path))\n",
    "            pr = dom.xpath(path)[0]\n",
    "            pr = pr.text if attr == 'text' else pr.get(attr)\n",
    "            price = re.sub(r'[^\\d\\.\\,)]', '', pr).rstrip(\".\")\n",
    "            prices.append(price)\n",
    "        return list(zip(ids, prices))"
   ]
  },
  {
   "cell_type": "code",
   "execution_count": 49,
   "metadata": {},
   "outputs": [
    {
     "name": "stdout",
     "output_type": "stream",
     "text": [
      "<html><head><script>function set_cookie(){var now = new Date();var time = now.getTime();time += 19360000 * 1000;now.setTime(time);document.cookie='beget=begetok'+'; expires='+now.toGMTString()+'; path=/';}set_cookie();location.reload();;</script></head><body></body></html>\n",
      "\n",
      "<Element html at 0x1e7f803f340>\n",
      "[]\n"
     ]
    },
    {
     "ename": "IndexError",
     "evalue": "list index out of range",
     "output_type": "error",
     "traceback": [
      "\u001b[1;31m---------------------------------------------------------------------------\u001b[0m",
      "\u001b[1;31mIndexError\u001b[0m                                Traceback (most recent call last)",
      "Cell \u001b[1;32mIn[49], line 1\u001b[0m\n\u001b[1;32m----> 1\u001b[0m \u001b[43mbs_parse\u001b[49m\u001b[43m(\u001b[49m\n\u001b[0;32m      2\u001b[0m \u001b[43m    \u001b[49m\u001b[43mconn\u001b[49m\u001b[38;5;241;43m=\u001b[39;49m\u001b[43msqlite3\u001b[49m\u001b[38;5;241;43m.\u001b[39;49m\u001b[43mconnect\u001b[49m\u001b[43m(\u001b[49m\u001b[38;5;124;43m\"\u001b[39;49m\u001b[38;5;124;43mdumping.db\u001b[39;49m\u001b[38;5;124;43m\"\u001b[39;49m\u001b[43m)\u001b[49m\u001b[43m,\u001b[49m\n\u001b[0;32m      3\u001b[0m \u001b[43m    \u001b[49m\u001b[43mresource\u001b[49m\u001b[38;5;241;43m=\u001b[39;49m\u001b[38;5;124;43m'\u001b[39;49m\u001b[38;5;124;43mDevi\u001b[39;49m\u001b[38;5;124;43m'\u001b[39;49m\u001b[43m,\u001b[49m\n\u001b[0;32m      4\u001b[0m \u001b[43m    \u001b[49m\u001b[43mpath\u001b[49m\u001b[38;5;241;43m=\u001b[39;49m\u001b[38;5;124;43m\"\u001b[39;49m\u001b[38;5;124;43m//div[contains(@class, \u001b[39;49m\u001b[38;5;124;43m'\u001b[39;49m\u001b[38;5;124;43mprice\u001b[39;49m\u001b[38;5;124;43m'\u001b[39;49m\u001b[38;5;124;43m)]\u001b[39;49m\u001b[38;5;124;43m\"\u001b[39;49m\u001b[43m,\u001b[49m\n\u001b[0;32m      5\u001b[0m \u001b[43m)\u001b[49m\n",
      "Cell \u001b[1;32mIn[48], line 13\u001b[0m, in \u001b[0;36mbs_parse\u001b[1;34m(conn, resource, path, attr)\u001b[0m\n\u001b[0;32m     11\u001b[0m \u001b[38;5;28mprint\u001b[39m(dom)\n\u001b[0;32m     12\u001b[0m \u001b[38;5;28mprint\u001b[39m(dom\u001b[38;5;241m.\u001b[39mxpath(path))\n\u001b[1;32m---> 13\u001b[0m pr \u001b[38;5;241m=\u001b[39m \u001b[43mdom\u001b[49m\u001b[38;5;241;43m.\u001b[39;49m\u001b[43mxpath\u001b[49m\u001b[43m(\u001b[49m\u001b[43mpath\u001b[49m\u001b[43m)\u001b[49m\u001b[43m[\u001b[49m\u001b[38;5;241;43m0\u001b[39;49m\u001b[43m]\u001b[49m\n\u001b[0;32m     14\u001b[0m pr \u001b[38;5;241m=\u001b[39m pr\u001b[38;5;241m.\u001b[39mtext \u001b[38;5;28;01mif\u001b[39;00m attr \u001b[38;5;241m==\u001b[39m \u001b[38;5;124m'\u001b[39m\u001b[38;5;124mtext\u001b[39m\u001b[38;5;124m'\u001b[39m \u001b[38;5;28;01melse\u001b[39;00m pr\u001b[38;5;241m.\u001b[39mget(attr)\n\u001b[0;32m     15\u001b[0m price \u001b[38;5;241m=\u001b[39m re\u001b[38;5;241m.\u001b[39msub(\u001b[38;5;124mr\u001b[39m\u001b[38;5;124m'\u001b[39m\u001b[38;5;124m[^\u001b[39m\u001b[38;5;124m\\\u001b[39m\u001b[38;5;124md\u001b[39m\u001b[38;5;124m\\\u001b[39m\u001b[38;5;124m.\u001b[39m\u001b[38;5;124m\\\u001b[39m\u001b[38;5;124m,)]\u001b[39m\u001b[38;5;124m'\u001b[39m, \u001b[38;5;124m'\u001b[39m\u001b[38;5;124m'\u001b[39m, pr)\u001b[38;5;241m.\u001b[39mrstrip(\u001b[38;5;124m\"\u001b[39m\u001b[38;5;124m.\u001b[39m\u001b[38;5;124m\"\u001b[39m)\n",
      "\u001b[1;31mIndexError\u001b[0m: list index out of range"
     ]
    }
   ],
   "source": [
    "bs_parse(\n",
    "    conn=sqlite3.connect(\"dumping.db\"),\n",
    "    resource='Devi',\n",
    "    path=\"//div[contains(@class, 'price')]\",\n",
    ")"
   ]
  },
  {
   "cell_type": "code",
   "execution_count": 50,
   "metadata": {},
   "outputs": [],
   "source": [
    "import sqlite3\n",
    "from sqlite3 import Connection\n",
    "import pandas as pd\n",
    "conn = sqlite3.connect(\"dumping.db\")\n",
    "query = f\"\"\"SELECT *\n",
    "            FROM prices\n",
    "            LEFT JOIN cards\n",
    "                ON cards.id = prices.id\n",
    "            LEFT JOIN analogues\n",
    "                ON cards.name_analogue = analogues.name_analogue\n",
    "            WHERE date = '14.06.2024'\n",
    "                AND cards.name_analogue <> 0\n",
    "                AND prices.price <> 0\n",
    "            GROUP BY cards.category, cards.type, cards.resource, analogues.name_analogue\n",
    "            ORDER BY cards.resource, analogues.price\n",
    "            \"\"\"\n",
    "def request_sql(conn: Connection, query: str):\n",
    "    with conn:\n",
    "        cursor = conn.cursor()\n",
    "        data = cursor.execute(query).fetchall()\n",
    "        cursor.close()\n",
    "        return data\n",
    "data = request_sql(conn, query)"
   ]
  },
  {
   "cell_type": "code",
   "execution_count": 51,
   "metadata": {},
   "outputs": [],
   "source": [
    "df = pd.DataFrame(data)\n",
    "df.to_excel('Выгрузка 21.11.xlsx')"
   ]
  },
  {
   "cell_type": "code",
   "execution_count": 52,
   "metadata": {},
   "outputs": [
    {
     "data": {
      "text/plain": [
       "sqlite3.Connection"
      ]
     },
     "execution_count": 52,
     "metadata": {},
     "output_type": "execute_result"
    }
   ],
   "source": [
    "type(sqlite3.connect(\"dumping.db\"))"
   ]
  },
  {
   "cell_type": "code",
   "execution_count": 53,
   "metadata": {},
   "outputs": [],
   "source": [
    "d = {\"resource\":'AURA',\n",
    "    \"path\":\"//div[contains(@class, 'product-page__price price')]\",\n",
    "    \"attr\":2}"
   ]
  },
  {
   "cell_type": "code",
   "execution_count": 54,
   "metadata": {},
   "outputs": [],
   "source": [
    "def print_s(resource: str, path: str, attr: int):\n",
    "    print(resource, path, attr+1)"
   ]
  },
  {
   "cell_type": "code",
   "execution_count": 55,
   "metadata": {},
   "outputs": [
    {
     "name": "stdout",
     "output_type": "stream",
     "text": [
      "AURA //div[contains(@class, 'product-page__price price')] 3\n"
     ]
    }
   ],
   "source": [
    "print_s(**d)"
   ]
  },
  {
   "cell_type": "code",
   "execution_count": 56,
   "metadata": {},
   "outputs": [],
   "source": [
    "import undetected_chromedriver as uc\n"
   ]
  },
  {
   "cell_type": "code",
   "execution_count": 57,
   "metadata": {},
   "outputs": [],
   "source": [
    "driver = uc.Chrome(executable_path=\"C:/Users/user157/Desktop/dumping/chromedriver.exe\", version_main = 120)"
   ]
  }
 ],
 "metadata": {
  "kernelspec": {
   "display_name": ".venv",
   "language": "python",
   "name": "python3"
  },
  "language_info": {
   "codemirror_mode": {
    "name": "ipython",
    "version": 3
   },
   "file_extension": ".py",
   "mimetype": "text/x-python",
   "name": "python",
   "nbconvert_exporter": "python",
   "pygments_lexer": "ipython3",
   "version": "3.11.4"
  }
 },
 "nbformat": 4,
 "nbformat_minor": 2
}
