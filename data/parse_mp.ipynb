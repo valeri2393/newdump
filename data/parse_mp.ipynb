{
 "cells": [
  {
   "cell_type": "code",
   "execution_count": 18,
   "metadata": {},
   "outputs": [],
   "source": [
    "from selenium.webdriver.common.by import By"
   ]
  },
  {
   "cell_type": "code",
   "execution_count": 19,
   "metadata": {},
   "outputs": [],
   "source": [
    "import undetected_chromedriver as uc"
   ]
  },
  {
   "cell_type": "code",
   "execution_count": 20,
   "metadata": {},
   "outputs": [],
   "source": [
    "driver = uc.Chrome(driver_executable_path='C:/Users/user157/AppData/Roaming/undetected_chromedriver/chromedriver.exe')"
   ]
  },
  {
   "cell_type": "code",
   "execution_count": 21,
   "metadata": {},
   "outputs": [],
   "source": [
    "driver.get('https://www.ozon.ru/search/?from_global=true&text=%D1%81%D1%82%D0%BD&type=122645%2C113798%2C52639%2C273041')"
   ]
  },
  {
   "cell_type": "code",
   "execution_count": 28,
   "metadata": {},
   "outputs": [],
   "source": [
    "parent_el_classes = []\n",
    "for el in driver.find_elements(By.XPATH, \"//a[contains(@href,'/product/')]\"):\n",
    "    parent_el_classes.append(el.find_element(By.XPATH, '..').get_attribute('class'))"
   ]
  },
  {
   "cell_type": "code",
   "execution_count": 35,
   "metadata": {},
   "outputs": [],
   "source": [
    "from collections import Counter\n",
    "card_class = Counter(parent_el_classes).most_common(1)[0][0]"
   ]
  },
  {
   "cell_type": "code",
   "execution_count": 37,
   "metadata": {},
   "outputs": [],
   "source": [
    "cards = driver.find_elements(By.XPATH, f\"//div[@class='{card_class}']\")"
   ]
  },
  {
   "cell_type": "code",
   "execution_count": 38,
   "metadata": {},
   "outputs": [
    {
     "data": {
      "text/plain": [
       "[<undetected_chromedriver.webelement.WebElement (session=\"3b6c862c922b84059a2a3ca0dd8c8314\", element=\"f.5C3169C5765E1B7B5E35ADE29714FE7E.d.38C168D9E8B6F4AA2FAFF6C1C83F86A1.e.1006\")>,\n",
       " <undetected_chromedriver.webelement.WebElement (session=\"3b6c862c922b84059a2a3ca0dd8c8314\", element=\"f.5C3169C5765E1B7B5E35ADE29714FE7E.d.38C168D9E8B6F4AA2FAFF6C1C83F86A1.e.1008\")>,\n",
       " <undetected_chromedriver.webelement.WebElement (session=\"3b6c862c922b84059a2a3ca0dd8c8314\", element=\"f.5C3169C5765E1B7B5E35ADE29714FE7E.d.38C168D9E8B6F4AA2FAFF6C1C83F86A1.e.1010\")>,\n",
       " <undetected_chromedriver.webelement.WebElement (session=\"3b6c862c922b84059a2a3ca0dd8c8314\", element=\"f.5C3169C5765E1B7B5E35ADE29714FE7E.d.38C168D9E8B6F4AA2FAFF6C1C83F86A1.e.1012\")>,\n",
       " <undetected_chromedriver.webelement.WebElement (session=\"3b6c862c922b84059a2a3ca0dd8c8314\", element=\"f.5C3169C5765E1B7B5E35ADE29714FE7E.d.38C168D9E8B6F4AA2FAFF6C1C83F86A1.e.1014\")>,\n",
       " <undetected_chromedriver.webelement.WebElement (session=\"3b6c862c922b84059a2a3ca0dd8c8314\", element=\"f.5C3169C5765E1B7B5E35ADE29714FE7E.d.38C168D9E8B6F4AA2FAFF6C1C83F86A1.e.1016\")>,\n",
       " <undetected_chromedriver.webelement.WebElement (session=\"3b6c862c922b84059a2a3ca0dd8c8314\", element=\"f.5C3169C5765E1B7B5E35ADE29714FE7E.d.38C168D9E8B6F4AA2FAFF6C1C83F86A1.e.1018\")>,\n",
       " <undetected_chromedriver.webelement.WebElement (session=\"3b6c862c922b84059a2a3ca0dd8c8314\", element=\"f.5C3169C5765E1B7B5E35ADE29714FE7E.d.38C168D9E8B6F4AA2FAFF6C1C83F86A1.e.1020\")>,\n",
       " <undetected_chromedriver.webelement.WebElement (session=\"3b6c862c922b84059a2a3ca0dd8c8314\", element=\"f.5C3169C5765E1B7B5E35ADE29714FE7E.d.38C168D9E8B6F4AA2FAFF6C1C83F86A1.e.1022\")>,\n",
       " <undetected_chromedriver.webelement.WebElement (session=\"3b6c862c922b84059a2a3ca0dd8c8314\", element=\"f.5C3169C5765E1B7B5E35ADE29714FE7E.d.38C168D9E8B6F4AA2FAFF6C1C83F86A1.e.1024\")>,\n",
       " <undetected_chromedriver.webelement.WebElement (session=\"3b6c862c922b84059a2a3ca0dd8c8314\", element=\"f.5C3169C5765E1B7B5E35ADE29714FE7E.d.38C168D9E8B6F4AA2FAFF6C1C83F86A1.e.1026\")>,\n",
       " <undetected_chromedriver.webelement.WebElement (session=\"3b6c862c922b84059a2a3ca0dd8c8314\", element=\"f.5C3169C5765E1B7B5E35ADE29714FE7E.d.38C168D9E8B6F4AA2FAFF6C1C83F86A1.e.1028\")>,\n",
       " <undetected_chromedriver.webelement.WebElement (session=\"3b6c862c922b84059a2a3ca0dd8c8314\", element=\"f.5C3169C5765E1B7B5E35ADE29714FE7E.d.38C168D9E8B6F4AA2FAFF6C1C83F86A1.e.259\")>,\n",
       " <undetected_chromedriver.webelement.WebElement (session=\"3b6c862c922b84059a2a3ca0dd8c8314\", element=\"f.5C3169C5765E1B7B5E35ADE29714FE7E.d.38C168D9E8B6F4AA2FAFF6C1C83F86A1.e.270\")>,\n",
       " <undetected_chromedriver.webelement.WebElement (session=\"3b6c862c922b84059a2a3ca0dd8c8314\", element=\"f.5C3169C5765E1B7B5E35ADE29714FE7E.d.38C168D9E8B6F4AA2FAFF6C1C83F86A1.e.282\")>,\n",
       " <undetected_chromedriver.webelement.WebElement (session=\"3b6c862c922b84059a2a3ca0dd8c8314\", element=\"f.5C3169C5765E1B7B5E35ADE29714FE7E.d.38C168D9E8B6F4AA2FAFF6C1C83F86A1.e.293\")>,\n",
       " <undetected_chromedriver.webelement.WebElement (session=\"3b6c862c922b84059a2a3ca0dd8c8314\", element=\"f.5C3169C5765E1B7B5E35ADE29714FE7E.d.38C168D9E8B6F4AA2FAFF6C1C83F86A1.e.304\")>,\n",
       " <undetected_chromedriver.webelement.WebElement (session=\"3b6c862c922b84059a2a3ca0dd8c8314\", element=\"f.5C3169C5765E1B7B5E35ADE29714FE7E.d.38C168D9E8B6F4AA2FAFF6C1C83F86A1.e.336\")>,\n",
       " <undetected_chromedriver.webelement.WebElement (session=\"3b6c862c922b84059a2a3ca0dd8c8314\", element=\"f.5C3169C5765E1B7B5E35ADE29714FE7E.d.38C168D9E8B6F4AA2FAFF6C1C83F86A1.e.373\")>,\n",
       " <undetected_chromedriver.webelement.WebElement (session=\"3b6c862c922b84059a2a3ca0dd8c8314\", element=\"f.5C3169C5765E1B7B5E35ADE29714FE7E.d.38C168D9E8B6F4AA2FAFF6C1C83F86A1.e.405\")>,\n",
       " <undetected_chromedriver.webelement.WebElement (session=\"3b6c862c922b84059a2a3ca0dd8c8314\", element=\"f.5C3169C5765E1B7B5E35ADE29714FE7E.d.38C168D9E8B6F4AA2FAFF6C1C83F86A1.e.443\")>,\n",
       " <undetected_chromedriver.webelement.WebElement (session=\"3b6c862c922b84059a2a3ca0dd8c8314\", element=\"f.5C3169C5765E1B7B5E35ADE29714FE7E.d.38C168D9E8B6F4AA2FAFF6C1C83F86A1.e.466\")>,\n",
       " <undetected_chromedriver.webelement.WebElement (session=\"3b6c862c922b84059a2a3ca0dd8c8314\", element=\"f.5C3169C5765E1B7B5E35ADE29714FE7E.d.38C168D9E8B6F4AA2FAFF6C1C83F86A1.e.490\")>,\n",
       " <undetected_chromedriver.webelement.WebElement (session=\"3b6c862c922b84059a2a3ca0dd8c8314\", element=\"f.5C3169C5765E1B7B5E35ADE29714FE7E.d.38C168D9E8B6F4AA2FAFF6C1C83F86A1.e.512\")>,\n",
       " <undetected_chromedriver.webelement.WebElement (session=\"3b6c862c922b84059a2a3ca0dd8c8314\", element=\"f.5C3169C5765E1B7B5E35ADE29714FE7E.d.38C168D9E8B6F4AA2FAFF6C1C83F86A1.e.631\")>,\n",
       " <undetected_chromedriver.webelement.WebElement (session=\"3b6c862c922b84059a2a3ca0dd8c8314\", element=\"f.5C3169C5765E1B7B5E35ADE29714FE7E.d.38C168D9E8B6F4AA2FAFF6C1C83F86A1.e.633\")>,\n",
       " <undetected_chromedriver.webelement.WebElement (session=\"3b6c862c922b84059a2a3ca0dd8c8314\", element=\"f.5C3169C5765E1B7B5E35ADE29714FE7E.d.38C168D9E8B6F4AA2FAFF6C1C83F86A1.e.635\")>,\n",
       " <undetected_chromedriver.webelement.WebElement (session=\"3b6c862c922b84059a2a3ca0dd8c8314\", element=\"f.5C3169C5765E1B7B5E35ADE29714FE7E.d.38C168D9E8B6F4AA2FAFF6C1C83F86A1.e.637\")>,\n",
       " <undetected_chromedriver.webelement.WebElement (session=\"3b6c862c922b84059a2a3ca0dd8c8314\", element=\"f.5C3169C5765E1B7B5E35ADE29714FE7E.d.38C168D9E8B6F4AA2FAFF6C1C83F86A1.e.1033\")>,\n",
       " <undetected_chromedriver.webelement.WebElement (session=\"3b6c862c922b84059a2a3ca0dd8c8314\", element=\"f.5C3169C5765E1B7B5E35ADE29714FE7E.d.38C168D9E8B6F4AA2FAFF6C1C83F86A1.e.1035\")>,\n",
       " <undetected_chromedriver.webelement.WebElement (session=\"3b6c862c922b84059a2a3ca0dd8c8314\", element=\"f.5C3169C5765E1B7B5E35ADE29714FE7E.d.38C168D9E8B6F4AA2FAFF6C1C83F86A1.e.1036\")>,\n",
       " <undetected_chromedriver.webelement.WebElement (session=\"3b6c862c922b84059a2a3ca0dd8c8314\", element=\"f.5C3169C5765E1B7B5E35ADE29714FE7E.d.38C168D9E8B6F4AA2FAFF6C1C83F86A1.e.1038\")>,\n",
       " <undetected_chromedriver.webelement.WebElement (session=\"3b6c862c922b84059a2a3ca0dd8c8314\", element=\"f.5C3169C5765E1B7B5E35ADE29714FE7E.d.38C168D9E8B6F4AA2FAFF6C1C83F86A1.e.679\")>,\n",
       " <undetected_chromedriver.webelement.WebElement (session=\"3b6c862c922b84059a2a3ca0dd8c8314\", element=\"f.5C3169C5765E1B7B5E35ADE29714FE7E.d.38C168D9E8B6F4AA2FAFF6C1C83F86A1.e.701\")>,\n",
       " <undetected_chromedriver.webelement.WebElement (session=\"3b6c862c922b84059a2a3ca0dd8c8314\", element=\"f.5C3169C5765E1B7B5E35ADE29714FE7E.d.38C168D9E8B6F4AA2FAFF6C1C83F86A1.e.719\")>,\n",
       " <undetected_chromedriver.webelement.WebElement (session=\"3b6c862c922b84059a2a3ca0dd8c8314\", element=\"f.5C3169C5765E1B7B5E35ADE29714FE7E.d.38C168D9E8B6F4AA2FAFF6C1C83F86A1.e.742\")>]"
      ]
     },
     "execution_count": 38,
     "metadata": {},
     "output_type": "execute_result"
    }
   ],
   "source": [
    "cards"
   ]
  }
 ],
 "metadata": {
  "kernelspec": {
   "display_name": "Python 3",
   "language": "python",
   "name": "python3"
  },
  "language_info": {
   "codemirror_mode": {
    "name": "ipython",
    "version": 3
   },
   "file_extension": ".py",
   "mimetype": "text/x-python",
   "name": "python",
   "nbconvert_exporter": "python",
   "pygments_lexer": "ipython3",
   "version": "3.11.4"
  }
 },
 "nbformat": 4,
 "nbformat_minor": 2
}
